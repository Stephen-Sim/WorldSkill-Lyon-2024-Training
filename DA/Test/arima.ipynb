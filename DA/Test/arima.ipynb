{
 "cells": [
  {
   "metadata": {},
   "cell_type": "markdown",
   "source": "## Question 1",
   "id": "51a7e814c841eed"
  },
  {
   "metadata": {},
   "cell_type": "code",
   "source": [
    "import pandas as pd\n",
    "\n",
    "import warnings\n",
    "\n",
    "warnings.filterwarnings(\"ignore\")\n",
    "\n",
    "df = pd.read_csv('Input/Q3a - Netflix_stock_history.csv')"
   ],
   "id": "c223bb20790ce6ea",
   "outputs": [],
   "execution_count": null
  },
  {
   "metadata": {},
   "cell_type": "code",
   "source": [
    "df['Date'] = pd.to_datetime(df['Date'])\n",
    "\n",
    "df"
   ],
   "id": "3bf0b37e0c7f9145",
   "outputs": [],
   "execution_count": null
  },
  {
   "metadata": {},
   "cell_type": "code",
   "source": [
    "from statsmodels.tsa.arima.model import ARIMA\n",
    "from statsmodels.graphics.tsaplots import plot_acf, plot_pacf\n",
    "from statsmodels.tsa.stattools import adfuller\n",
    "\n",
    "adf=adfuller(df['Close'])\n",
    "\n",
    "print(f\"d value: {adf[1]}\")"
   ],
   "id": "b06fc21a6a228221",
   "outputs": [],
   "execution_count": null
  },
  {
   "metadata": {},
   "cell_type": "code",
   "source": [
    "import matplotlib.pyplot as plt\n",
    "\n",
    "fig, ax = plt.subplots(2, 1, figsize=(10, 8))\n",
    "\n",
    "plot_acf(df['Close'].diff().dropna(), ax = ax[0], lags=20)\n",
    "plot_pacf(df['Close'].diff().dropna(), ax = ax[1], lags=20)\n",
    "\n",
    "plt.show()"
   ],
   "id": "b5af3c3baae5568",
   "outputs": [],
   "execution_count": null
  },
  {
   "metadata": {},
   "cell_type": "code",
   "source": [
    "import numpy as np\n",
    "\n",
    "train  = df[df['Date'] < '2021-01-01']\n",
    "test = df[df['Date'] >= '2021-01-01']\n",
    "\n",
    "train = train['Close'].values\n",
    "test = test['Close'].values\n",
    "\n",
    "actual = train.tolist()\n",
    "predictions = []\n",
    "\n",
    "for t in range(len(test)):\n",
    "    arima = ARIMA(actual, order=(1,1,1))\n",
    "    model_fit = arima.fit()\n",
    "    predict_output = model_fit.forecast()\n",
    "    predictions.append(predict_output[0])\n",
    "    actual.append(test[t])\n",
    "    \n",
    "    print(f\"Actual: {test[t]}, Predict: {predict_output[0]}\")"
   ],
   "id": "fa86db4d18d29ad2",
   "outputs": [],
   "execution_count": null
  },
  {
   "metadata": {},
   "cell_type": "code",
   "source": [
    "plt.subplots(figsize=(10, 5))\n",
    "\n",
    "plt.plot(df['Date'][len(train):len(train) + len(predictions)], actual[len(train):len(train) + len(predictions)], label='Actual')\n",
    "plt.plot(df['Date'][len(train):len(train) + len(predictions)], predictions, color='red', label='Predicted')\n",
    "\n",
    "plt.legend()\n",
    "plt.show()"
   ],
   "id": "176dc2c9e180120d",
   "outputs": [],
   "execution_count": null
  },
  {
   "metadata": {},
   "cell_type": "code",
   "source": [
    "from math import sqrt\n",
    "from sklearn.metrics import mean_squared_error\n",
    "\n",
    "rmse = mean_squared_error(actual[len(train):len(train) + len(predictions)], predictions)\n",
    "\n",
    "print(\"Model performance: %.3f (the lower number, the better performance)\" % sqrt(rmse))"
   ],
   "id": "687568fb093264b5",
   "outputs": [],
   "execution_count": null
  },
  {
   "metadata": {},
   "cell_type": "code",
   "source": [
    "arima = ARIMA(actual, order=(1,1,1))\n",
    "model_fit = arima.fit()\n",
    "\n",
    "\n",
    "date_range = pd.date_range(df['Date'].max(), periods=1000, freq='D')\n",
    "\n",
    "plt.plot(model_fit.forecast(steps=30))\n",
    "\n",
    "# plt.plot(date_range, model_fit.forecast(steps=1000), color='blue', label='Forecast')\n",
    "# plt.plot(df['Date'], df['Close'], color='red', label='Actual')\n",
    "# \n",
    "# plt.legend()\n",
    "# plt.show()"
   ],
   "id": "d9d1102427a7085f",
   "outputs": [],
   "execution_count": null
  }
 ],
 "metadata": {
  "kernelspec": {
   "display_name": "Python 3",
   "language": "python",
   "name": "python3"
  },
  "language_info": {
   "codemirror_mode": {
    "name": "ipython",
    "version": 2
   },
   "file_extension": ".py",
   "mimetype": "text/x-python",
   "name": "python",
   "nbconvert_exporter": "python",
   "pygments_lexer": "ipython2",
   "version": "2.7.6"
  }
 },
 "nbformat": 4,
 "nbformat_minor": 5
}
