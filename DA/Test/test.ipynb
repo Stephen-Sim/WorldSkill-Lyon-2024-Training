{
 "cells": [
  {
   "metadata": {},
   "cell_type": "markdown",
   "source": "# Part 1",
   "id": "7c5816fcf1e6f0c8"
  },
  {
   "cell_type": "code",
   "id": "initial_id",
   "metadata": {
    "collapsed": true,
    "ExecuteTime": {
     "end_time": "2024-09-01T06:20:37.977918Z",
     "start_time": "2024-09-01T06:20:37.047136Z"
    }
   },
   "source": [
    "import pandas as pd\n",
    "import matplotlib.pyplot as plt\n",
    "\n",
    "df = pd.read_csv(\"Input/retail-dataset-analysis.csv\", encoding=\"unicode_escape\")\n"
   ],
   "outputs": [],
   "execution_count": 1
  },
  {
   "metadata": {
    "ExecuteTime": {
     "end_time": "2024-09-01T06:20:37.981899Z",
     "start_time": "2024-09-01T06:20:37.978923Z"
    }
   },
   "cell_type": "code",
   "source": "",
   "id": "107855bc49d66ec4",
   "outputs": [],
   "execution_count": 1
  }
 ],
 "metadata": {
  "kernelspec": {
   "display_name": "Python 3",
   "language": "python",
   "name": "python3"
  },
  "language_info": {
   "codemirror_mode": {
    "name": "ipython",
    "version": 2
   },
   "file_extension": ".py",
   "mimetype": "text/x-python",
   "name": "python",
   "nbconvert_exporter": "python",
   "pygments_lexer": "ipython2",
   "version": "2.7.6"
  }
 },
 "nbformat": 4,
 "nbformat_minor": 5
}
