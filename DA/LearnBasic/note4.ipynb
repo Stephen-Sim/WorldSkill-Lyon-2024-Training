{
 "cells": [
  {
   "cell_type": "code",
   "id": "initial_id",
   "metadata": {
    "collapsed": true
   },
   "source": [
    "import numpy as np\n",
    "import pandas as pd\n",
    "import matplotlib.pyplot as plt\n",
    "\n",
    "from matplotlib import font_manager\n",
    "\n",
    "titleFam = font_manager.FontProperties(fname=\"Fonts/Montserrat-Bold.ttf\")\n",
    "printFamPath= font_manager.FontProperties(fname=\"Fonts/OpeSans-Regular.ttf\")\n",
    "\n",
    "plt.rcParams['font.family'] = printFamPath.get_family()\n",
    "plt.rcParams['font.size'] = 12\n",
    "plt.rcParams['text.color'] = '#3C280D'\n",
    "\n",
    "colors = ['#D4A017', '#A4C2D6', '#C75D4D', '#7A8C69']"
   ],
   "outputs": [],
   "execution_count": null
  },
  {
   "metadata": {},
   "cell_type": "code",
   "source": [
    "df = pd.read_csv('data/shopping_trends_updated.csv')\n",
    "\n",
    "df.fillna(0, inplace=True)"
   ],
   "id": "63dd2261e59ef703",
   "outputs": [],
   "execution_count": null
  },
  {
   "metadata": {},
   "cell_type": "code",
   "source": [
    "df_gender = df.groupby('Gender').size().sort_values(ascending=False)\n",
    "\n",
    "df_gender.plot(kind='bar', color=colors)\n",
    "\n",
    "plt.title(\"Gender\")\n",
    "plt.xlabel(\"Emploment Type\")\n",
    "plt.ylabel(\"Number of Occurrence\")\n",
    "\n",
    "plt.xticks(rotation=0)\n",
    "\n",
    "plt.show()"
   ],
   "id": "39e737a949c131a4",
   "outputs": [],
   "execution_count": null
  },
  {
   "metadata": {},
   "cell_type": "code",
   "source": [
    "df_gender.plot(kind='pie', autopct='%1.1f%%', colors=colors, startangle=90)\n",
    "plt.title(\"Gender\")\n",
    "\n",
    "plt.show()"
   ],
   "id": "e670ef7d8a3d4c88",
   "outputs": [],
   "execution_count": null
  },
  {
   "metadata": {},
   "cell_type": "code",
   "source": [
    "fig, ax = plt.subplots(figsize=(15, 5))\n",
    "\n",
    "ax.hist(df['Age'], bins=25, density = True)\n",
    "df[\"Age\"].plot(kind='kde', ax=ax)\n",
    "\n",
    "plt.legend()\n",
    "\n",
    "plt.show()"
   ],
   "id": "f8778336bbbd5753",
   "outputs": [],
   "execution_count": null
  },
  {
   "metadata": {},
   "cell_type": "code",
   "source": [
    "df_category = df.groupby('Category').size().sort_values(ascending=False)\n",
    "\n",
    "df_category.plot(kind='bar', color=colors)\n",
    "\n",
    "plt.xticks(rotation=0)\n",
    "\n",
    "plt.show()"
   ],
   "id": "ab2ff1f3d964be50",
   "outputs": [],
   "execution_count": null
  },
  {
   "metadata": {},
   "cell_type": "code",
   "source": [
    "df_category.plot(kind='pie', autopct='%1.1f%%', colors=colors, startangle=90)\n",
    "\n",
    "plt.show()"
   ],
   "id": "7481cfa7ba94269d",
   "outputs": [],
   "execution_count": null
  },
  {
   "metadata": {},
   "cell_type": "code",
   "source": [
    "fix, ax = plt.subplots(figsize=(15, 10))\n",
    "\n",
    "df_items = df.groupby('Item Purchased').size().sort_values(ascending=True)\n",
    "\n",
    "df_items.plot(kind='barh', color=colors)\n",
    "\n",
    "plt.show()"
   ],
   "id": "aeab384e853efc0e",
   "outputs": [],
   "execution_count": null
  },
  {
   "metadata": {},
   "cell_type": "code",
   "source": [
    "fix, ax = plt.subplots(figsize=(15, 10))\n",
    "\n",
    "df_location = df.groupby('Location').size().sort_values(ascending=False)\n",
    "\n",
    "df_location[:10].plot(kind='bar', color=colors)\n",
    "\n",
    "plt.xticks(rotation=0)\n",
    "plt.show()"
   ],
   "id": "96cb5300e3c356f2",
   "outputs": [],
   "execution_count": null
  },
  {
   "metadata": {},
   "cell_type": "code",
   "source": [
    "ax = df['Size'].value_counts().plot(kind='bar', color=colors)\n",
    "ax.set_xticklabels(df_size.index)\n",
    "\n",
    "plt.xticks(rotation=0)  \n",
    "plt.show()"
   ],
   "id": "9a85fd22f7a2548",
   "outputs": [],
   "execution_count": null
  },
  {
   "metadata": {},
   "cell_type": "code",
   "source": [
    "df['Size'].value_counts().plot(kind='pie', colors=colors, startangle=90, autopct='%1.1f%%')\n",
    "plt.show()"
   ],
   "id": "e366e69e8b9deb30",
   "outputs": [],
   "execution_count": null
  },
  {
   "metadata": {},
   "cell_type": "code",
   "source": [
    "import seaborn as sns\n",
    "\n",
    "sns.kdeplot(data = df, x = 'Purchase Amount (USD)', hue = 'Season', fill = True, color = colors)\n",
    "\n",
    "plt.show()"
   ],
   "id": "857352e5d534adb0",
   "outputs": [],
   "execution_count": null
  }
 ],
 "metadata": {
  "kernelspec": {
   "display_name": "Python 3",
   "language": "python",
   "name": "python3"
  },
  "language_info": {
   "codemirror_mode": {
    "name": "ipython",
    "version": 2
   },
   "file_extension": ".py",
   "mimetype": "text/x-python",
   "name": "python",
   "nbconvert_exporter": "python",
   "pygments_lexer": "ipython2",
   "version": "2.7.6"
  }
 },
 "nbformat": 4,
 "nbformat_minor": 5
}
