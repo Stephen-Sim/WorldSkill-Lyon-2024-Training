{
 "cells": [
  {
   "cell_type": "code",
   "id": "initial_id",
   "metadata": {
    "collapsed": true,
    "ExecuteTime": {
     "end_time": "2024-08-27T18:16:30.896121Z",
     "start_time": "2024-08-27T18:16:30.883204Z"
    }
   },
   "source": [
    "data = {\n",
    "    'customer_id': [1, 1, 2, 2, 3, 3, 3],\n",
    "    'order_id': [1001, 1002, 1003, 1004, 1005, 1006, 1007],\n",
    "    'order_date': ['2022-01-01', '2022-03-15', '2022-01-10', '2022-04-20', '2022-02-10', '2022-06-01', '2022-08-15'],\n",
    "    'revenue': [120, 80, 150, 90, 200, 250, 300]\n",
    "}\n",
    "\n",
    "import pandas as pd\n",
    "\n",
    "df = pd.DataFrame(data)\n",
    "\n",
    "df['order_date'] = pd.to_datetime(df['order_date'])\n",
    "df"
   ],
   "outputs": [
    {
     "data": {
      "text/plain": [
       "   customer_id  order_id order_date  revenue\n",
       "0            1      1001 2022-01-01      120\n",
       "1            1      1002 2022-03-15       80\n",
       "2            2      1003 2022-01-10      150\n",
       "3            2      1004 2022-04-20       90\n",
       "4            3      1005 2022-02-10      200\n",
       "5            3      1006 2022-06-01      250\n",
       "6            3      1007 2022-08-15      300"
      ],
      "text/html": [
       "<div>\n",
       "<style scoped>\n",
       "    .dataframe tbody tr th:only-of-type {\n",
       "        vertical-align: middle;\n",
       "    }\n",
       "\n",
       "    .dataframe tbody tr th {\n",
       "        vertical-align: top;\n",
       "    }\n",
       "\n",
       "    .dataframe thead th {\n",
       "        text-align: right;\n",
       "    }\n",
       "</style>\n",
       "<table border=\"1\" class=\"dataframe\">\n",
       "  <thead>\n",
       "    <tr style=\"text-align: right;\">\n",
       "      <th></th>\n",
       "      <th>customer_id</th>\n",
       "      <th>order_id</th>\n",
       "      <th>order_date</th>\n",
       "      <th>revenue</th>\n",
       "    </tr>\n",
       "  </thead>\n",
       "  <tbody>\n",
       "    <tr>\n",
       "      <th>0</th>\n",
       "      <td>1</td>\n",
       "      <td>1001</td>\n",
       "      <td>2022-01-01</td>\n",
       "      <td>120</td>\n",
       "    </tr>\n",
       "    <tr>\n",
       "      <th>1</th>\n",
       "      <td>1</td>\n",
       "      <td>1002</td>\n",
       "      <td>2022-03-15</td>\n",
       "      <td>80</td>\n",
       "    </tr>\n",
       "    <tr>\n",
       "      <th>2</th>\n",
       "      <td>2</td>\n",
       "      <td>1003</td>\n",
       "      <td>2022-01-10</td>\n",
       "      <td>150</td>\n",
       "    </tr>\n",
       "    <tr>\n",
       "      <th>3</th>\n",
       "      <td>2</td>\n",
       "      <td>1004</td>\n",
       "      <td>2022-04-20</td>\n",
       "      <td>90</td>\n",
       "    </tr>\n",
       "    <tr>\n",
       "      <th>4</th>\n",
       "      <td>3</td>\n",
       "      <td>1005</td>\n",
       "      <td>2022-02-10</td>\n",
       "      <td>200</td>\n",
       "    </tr>\n",
       "    <tr>\n",
       "      <th>5</th>\n",
       "      <td>3</td>\n",
       "      <td>1006</td>\n",
       "      <td>2022-06-01</td>\n",
       "      <td>250</td>\n",
       "    </tr>\n",
       "    <tr>\n",
       "      <th>6</th>\n",
       "      <td>3</td>\n",
       "      <td>1007</td>\n",
       "      <td>2022-08-15</td>\n",
       "      <td>300</td>\n",
       "    </tr>\n",
       "  </tbody>\n",
       "</table>\n",
       "</div>"
      ]
     },
     "execution_count": 3,
     "metadata": {},
     "output_type": "execute_result"
    }
   ],
   "execution_count": 3
  },
  {
   "metadata": {
    "ExecuteTime": {
     "end_time": "2024-08-27T18:20:22.159775Z",
     "start_time": "2024-08-27T18:20:22.144259Z"
    }
   },
   "cell_type": "code",
   "source": [
    "mdf = df.groupby('customer_id').agg({\n",
    "    'revenue' : 'sum',\n",
    "    'order_id' : 'count',\n",
    "    'order_date' : lambda x:(x.max()-x.min()).days\n",
    "}).reset_index()\n",
    "\n",
    "mdf['avg_order_value'] = mdf['revenue'] / mdf['order_id']\n",
    "mdf['customer_lifespan_years'] = mdf['order_date'] / 365\n",
    "mdf['cltv'] = mdf['avg_order_value'] * mdf['order_id'] * mdf['customer_lifespan_years']\n",
    "\n",
    "mdf[['customer_id', 'cltv']]"
   ],
   "id": "74a236b96614cff3",
   "outputs": [
    {
     "data": {
      "text/plain": [
       "   customer_id        cltv\n",
       "0            1   40.000000\n",
       "1            2   65.753425\n",
       "2            3  382.191781"
      ],
      "text/html": [
       "<div>\n",
       "<style scoped>\n",
       "    .dataframe tbody tr th:only-of-type {\n",
       "        vertical-align: middle;\n",
       "    }\n",
       "\n",
       "    .dataframe tbody tr th {\n",
       "        vertical-align: top;\n",
       "    }\n",
       "\n",
       "    .dataframe thead th {\n",
       "        text-align: right;\n",
       "    }\n",
       "</style>\n",
       "<table border=\"1\" class=\"dataframe\">\n",
       "  <thead>\n",
       "    <tr style=\"text-align: right;\">\n",
       "      <th></th>\n",
       "      <th>customer_id</th>\n",
       "      <th>cltv</th>\n",
       "    </tr>\n",
       "  </thead>\n",
       "  <tbody>\n",
       "    <tr>\n",
       "      <th>0</th>\n",
       "      <td>1</td>\n",
       "      <td>40.000000</td>\n",
       "    </tr>\n",
       "    <tr>\n",
       "      <th>1</th>\n",
       "      <td>2</td>\n",
       "      <td>65.753425</td>\n",
       "    </tr>\n",
       "    <tr>\n",
       "      <th>2</th>\n",
       "      <td>3</td>\n",
       "      <td>382.191781</td>\n",
       "    </tr>\n",
       "  </tbody>\n",
       "</table>\n",
       "</div>"
      ]
     },
     "execution_count": 7,
     "metadata": {},
     "output_type": "execute_result"
    }
   ],
   "execution_count": 7
  }
 ],
 "metadata": {
  "kernelspec": {
   "display_name": "Python 3",
   "language": "python",
   "name": "python3"
  },
  "language_info": {
   "codemirror_mode": {
    "name": "ipython",
    "version": 2
   },
   "file_extension": ".py",
   "mimetype": "text/x-python",
   "name": "python",
   "nbconvert_exporter": "python",
   "pygments_lexer": "ipython2",
   "version": "2.7.6"
  }
 },
 "nbformat": 4,
 "nbformat_minor": 5
}
