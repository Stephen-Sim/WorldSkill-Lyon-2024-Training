{
 "cells": [
  {
   "cell_type": "code",
   "id": "initial_id",
   "metadata": {
    "collapsed": true
   },
   "source": [
    "import pandas as pd\n",
    "\n",
    "df = pd.read_csv('data/data_jobs.csv')"
   ],
   "outputs": [],
   "execution_count": null
  },
  {
   "metadata": {},
   "cell_type": "code",
   "source": "df_cleaned = df.dropna()",
   "id": "7ec8ee96aa1f6f7c",
   "outputs": [],
   "execution_count": null
  },
  {
   "metadata": {},
   "cell_type": "code",
   "source": [
    "df_filled = df.fillna(0)\n",
    "df_filled.iloc[:10,11:14]"
   ],
   "id": "7259558d97e11577",
   "outputs": [],
   "execution_count": null
  },
  {
   "metadata": {},
   "cell_type": "code",
   "source": [
    "df_unique = df.drop_duplicates(subset=['job_title'])\n",
    "\n",
    "df_unique.head()"
   ],
   "id": "68dec2fa20d52093",
   "outputs": [],
   "execution_count": null
  },
  {
   "metadata": {},
   "cell_type": "markdown",
   "source": "# Pivot Table",
   "id": "9f176a419b50274b"
  },
  {
   "metadata": {},
   "cell_type": "code",
   "source": [
    "import matplotlib.pyplot as plt\n",
    "\n",
    "# pivot version\n",
    "df_job_country_salary = df.pivot_table(\n",
    "    values='salary_year_avg',        # The data to aggregate\n",
    "    index='job_country',             # Rows (index of pivot table)\n",
    "    columns='job_title_short',       # Columns (pivot table headers)\n",
    "    aggfunc='median'                 # Aggregation function\n",
    ")\n",
    "\n",
    "print(df_job_country_salary)\n",
    "\n",
    "top_countries = df.groupby('job_country').size().sort_values(ascending=False).head(6).index\n",
    "\n",
    "job_titles = ['Data Analyst', 'Data Engineer', 'Data Scientist']\n",
    "\n",
    "df_job_country_salary = df_job_country_salary.loc[top_countries]\n",
    "\n",
    "df_job_country_salary = df_job_country_salary[job_titles]\n",
    "\n",
    "df_job_country_salary.plot.bar()\n"
   ],
   "id": "f6810da75188ee7e",
   "outputs": [],
   "execution_count": null
  },
  {
   "metadata": {},
   "cell_type": "code",
   "source": [
    "df = pd.read_csv('data/data_jobs.csv')\n",
    "df['job_month'] = (pd.to_datetime(df['job_posted_date'])).dt.month"
   ],
   "id": "247e382da3ff1171",
   "outputs": [],
   "execution_count": null
  },
  {
   "metadata": {},
   "cell_type": "code",
   "source": [
    "job_title_short_count_by_month = df.pivot_table(index='job_month', columns='job_title_short', aggfunc='size')\n",
    "\n",
    "top_three_job = df['job_title_short'].value_counts().head(3).index\n",
    "\n",
    "job_title_short_count_by_month = job_title_short_count_by_month[top_three_job]\n",
    "\n",
    "job_title_short_count_by_month.plot()\n",
    "\n",
    "plt.legend()\n",
    "plt.show()"
   ],
   "id": "e6faa5c9c20310da",
   "outputs": [],
   "execution_count": null
  },
  {
   "metadata": {},
   "cell_type": "code",
   "source": [
    "developer_jobs = df[df.job_title_short.str.contains(\"Software\")].pivot_table(\n",
    "    index='job_month', columns='job_title_short', aggfunc='size'\n",
    ")\n",
    "\n",
    "jobs = pd.concat([developer_jobs, job_title_short_count_by_month], axis=1)\n",
    "\n",
    "jobs.plot(kind=\"line\", marker='o')\n",
    "\n",
    "plt.legend()\n",
    "plt.show()"
   ],
   "id": "1d829c219d04363c",
   "outputs": [],
   "execution_count": null
  },
  {
   "metadata": {},
   "cell_type": "code",
   "source": [
    "data = {\n",
    "    'job_title_short': ['Data Analyst', 'Data Scientist', 'Data Engineer'],\n",
    "    'job_skills': [['excel', 'sql', 'python'], ['python', 'r'], ['aws', 'python', 'airflow']]\n",
    "}\n",
    "\n",
    "\n",
    "df = pd.DataFrame(data)\n",
    "\n",
    "\n",
    "df_exploded = df.explode('job_skills')\n",
    "\n",
    "df_exploded\n",
    "\n",
    "\n",
    "df_exploded['job_skills'].value_counts().plot(kind=\"bar\")"
   ],
   "id": "fb9af55f13b41e8e",
   "outputs": [],
   "execution_count": null
  },
  {
   "metadata": {},
   "cell_type": "code",
   "source": [
    "import pandas as pd\n",
    "df = pd.read_csv('data/data_jobs.csv')\n",
    "\n",
    "import ast\n",
    "\n",
    "df['job_skills'] = df['job_skills'].dropna().apply(lambda x: ast.literal_eval(x))\n",
    "\n",
    "df['job_month_no'] = pd.to_datetime(df['job_posted_date']).dt.month"
   ],
   "id": "2ecd8660ada0fa55",
   "outputs": [],
   "execution_count": null
  },
  {
   "metadata": {},
   "cell_type": "code",
   "source": "da_df = df[df['job_title_short'] == 'Data Analyst']",
   "id": "1483271d6a890dfe",
   "outputs": [],
   "execution_count": null
  },
  {
   "metadata": {},
   "cell_type": "code",
   "source": "da_df = da_df.explode('job_skills')",
   "id": "d3b67e3e7e86ae40",
   "outputs": [],
   "execution_count": null
  },
  {
   "metadata": {},
   "cell_type": "code",
   "source": [
    "da_pivot = da_df.pivot_table(\n",
    "    index='job_month_no', columns='job_skills', aggfunc='size'\n",
    ").fillna(0)\n",
    "\n",
    "da_pivot.loc['Total'] = da_pivot.sum()\n",
    "\n",
    "da_pivot = da_pivot[da_pivot.loc['Total'].sort_values(ascending=False).index]\n",
    "\n",
    "da_pivot.drop('Total', inplace=True)"
   ],
   "id": "51085d7a42a4c78a",
   "outputs": [],
   "execution_count": null
  },
  {
   "metadata": {},
   "cell_type": "code",
   "source": "da_pivot.iloc[:, :5].plot()",
   "id": "268e673114f5fee1",
   "outputs": [],
   "execution_count": null
  },
  {
   "metadata": {},
   "cell_type": "code",
   "source": "da_df = df[df['job_title_short'] == 'Data Analyst']",
   "id": "d2db17d75e66639",
   "outputs": [],
   "execution_count": null
  },
  {
   "metadata": {},
   "cell_type": "code",
   "source": [
    "da_df = da_df.groupby('job_work_from_home').size()\n",
    "\n",
    "plt.pie(da_df, labels=[\"True\", \"False\"], autopct='%.1f')\n",
    "\n",
    "plt.show()"
   ],
   "id": "76b90b03da736da0",
   "outputs": [],
   "execution_count": null
  },
  {
   "metadata": {},
   "cell_type": "code",
   "source": [
    "import pandas as pd\n",
    "import ast\n",
    "\n",
    "df = pd.read_csv('data/data_jobs.csv')\n",
    "\n",
    "df['job_skills'] = df['job_skills'].dropna().apply(lambda x: ast.literal_eval(x))"
   ],
   "id": "6540a9a576c97df9",
   "outputs": [],
   "execution_count": null
  },
  {
   "metadata": {},
   "cell_type": "code",
   "source": [
    "df_highest_paid = df[df['job_title_short'] == 'Data Analyst']\n",
    "\n",
    "df_highest_paid.explode('job_skills')"
   ],
   "id": "396f2cea9cfd167c",
   "outputs": [],
   "execution_count": null
  },
  {
   "metadata": {},
   "cell_type": "code",
   "source": "df[['salary_year_avg', 'job_skills']]",
   "id": "33965eedd2ad5819",
   "outputs": [],
   "execution_count": null
  }
 ],
 "metadata": {
  "kernelspec": {
   "display_name": "Python 3",
   "language": "python",
   "name": "python3"
  },
  "language_info": {
   "codemirror_mode": {
    "name": "ipython",
    "version": 2
   },
   "file_extension": ".py",
   "mimetype": "text/x-python",
   "name": "python",
   "nbconvert_exporter": "python",
   "pygments_lexer": "ipython2",
   "version": "2.7.6"
  }
 },
 "nbformat": 4,
 "nbformat_minor": 5
}
