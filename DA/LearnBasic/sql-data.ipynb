{
 "cells": [
  {
   "cell_type": "code",
   "id": "initial_id",
   "metadata": {
    "collapsed": true,
    "ExecuteTime": {
     "end_time": "2024-08-27T16:37:35.602176Z",
     "start_time": "2024-08-27T16:37:35.596438Z"
    }
   },
   "source": [
    "import pandas as pd\n",
    "from sqlalchemy import create_engine\n",
    "\n",
    "engine = create_engine('mssql+pyodbc://STEPHEN-SIM\\SQLEXPRESS/CatViP?driver=SQL Server')"
   ],
   "outputs": [],
   "execution_count": 4
  },
  {
   "metadata": {
    "ExecuteTime": {
     "end_time": "2024-08-27T16:38:00.392434Z",
     "start_time": "2024-08-27T16:38:00.377700Z"
    }
   },
   "cell_type": "code",
   "source": [
    "df = pd.read_sql_query(\"SELECT * FROM Users WHERE username = 'admin'\", engine)\n",
    "\n",
    "df"
   ],
   "id": "34edc3f8476d2745",
   "outputs": [
    {
     "data": {
      "text/plain": [
       "   Id Username      FullName            Email  \\\n",
       "0   1    admin  CatViP Admin  admin@catvip.my   \n",
       "\n",
       "                                            Password  Gender DateOfBirth  \\\n",
       "0  $2a$11$tJQmZAwwj/SHsIQZ19lZkeqmWAOtvZVkNvT5Xv3...    True  2000-01-01   \n",
       "\n",
       "  Address ProfileImage Longitude Latitude                  CreatedTime  \\\n",
       "0    None         None      None     None  2023-12-01 00:00:00.0000000   \n",
       "\n",
       "  RememberToken TokenCreated TokenExpires  RoleId  \n",
       "0          None         None         None       1  "
      ],
      "text/html": [
       "<div>\n",
       "<style scoped>\n",
       "    .dataframe tbody tr th:only-of-type {\n",
       "        vertical-align: middle;\n",
       "    }\n",
       "\n",
       "    .dataframe tbody tr th {\n",
       "        vertical-align: top;\n",
       "    }\n",
       "\n",
       "    .dataframe thead th {\n",
       "        text-align: right;\n",
       "    }\n",
       "</style>\n",
       "<table border=\"1\" class=\"dataframe\">\n",
       "  <thead>\n",
       "    <tr style=\"text-align: right;\">\n",
       "      <th></th>\n",
       "      <th>Id</th>\n",
       "      <th>Username</th>\n",
       "      <th>FullName</th>\n",
       "      <th>Email</th>\n",
       "      <th>Password</th>\n",
       "      <th>Gender</th>\n",
       "      <th>DateOfBirth</th>\n",
       "      <th>Address</th>\n",
       "      <th>ProfileImage</th>\n",
       "      <th>Longitude</th>\n",
       "      <th>Latitude</th>\n",
       "      <th>CreatedTime</th>\n",
       "      <th>RememberToken</th>\n",
       "      <th>TokenCreated</th>\n",
       "      <th>TokenExpires</th>\n",
       "      <th>RoleId</th>\n",
       "    </tr>\n",
       "  </thead>\n",
       "  <tbody>\n",
       "    <tr>\n",
       "      <th>0</th>\n",
       "      <td>1</td>\n",
       "      <td>admin</td>\n",
       "      <td>CatViP Admin</td>\n",
       "      <td>admin@catvip.my</td>\n",
       "      <td>$2a$11$tJQmZAwwj/SHsIQZ19lZkeqmWAOtvZVkNvT5Xv3...</td>\n",
       "      <td>True</td>\n",
       "      <td>2000-01-01</td>\n",
       "      <td>None</td>\n",
       "      <td>None</td>\n",
       "      <td>None</td>\n",
       "      <td>None</td>\n",
       "      <td>2023-12-01 00:00:00.0000000</td>\n",
       "      <td>None</td>\n",
       "      <td>None</td>\n",
       "      <td>None</td>\n",
       "      <td>1</td>\n",
       "    </tr>\n",
       "  </tbody>\n",
       "</table>\n",
       "</div>"
      ]
     },
     "execution_count": 7,
     "metadata": {},
     "output_type": "execute_result"
    }
   ],
   "execution_count": 7
  }
 ],
 "metadata": {
  "kernelspec": {
   "display_name": "Python 3",
   "language": "python",
   "name": "python3"
  },
  "language_info": {
   "codemirror_mode": {
    "name": "ipython",
    "version": 2
   },
   "file_extension": ".py",
   "mimetype": "text/x-python",
   "name": "python",
   "nbconvert_exporter": "python",
   "pygments_lexer": "ipython2",
   "version": "2.7.6"
  }
 },
 "nbformat": 4,
 "nbformat_minor": 5
}
