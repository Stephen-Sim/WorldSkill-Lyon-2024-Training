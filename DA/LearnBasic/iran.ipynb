{
 "cells": [
  {
   "cell_type": "code",
   "id": "initial_id",
   "metadata": {
    "collapsed": true,
    "ExecuteTime": {
     "end_time": "2024-08-27T15:43:24.080692Z",
     "start_time": "2024-08-27T15:43:21.166535Z"
    }
   },
   "source": [
    "import pandas as pd\n",
    "\n",
    "df_all = pd.read_excel('Data/Complaints.xlsx', sheet_name=None)"
   ],
   "outputs": [],
   "execution_count": 37
  },
  {
   "metadata": {
    "ExecuteTime": {
     "end_time": "2024-08-27T15:43:24.100265Z",
     "start_time": "2024-08-27T15:43:24.082079Z"
    }
   },
   "cell_type": "code",
   "source": [
    "df = pd.merge(df_all['Brokers'], df_all['Complains Data'], how='outer', on='BrokerID')\n",
    "\n",
    "df = pd.merge(df, df_all['Products'], how='outer', on='ProductID')"
   ],
   "id": "50973d015f2b3ee1",
   "outputs": [],
   "execution_count": 38
  },
  {
   "metadata": {
    "ExecuteTime": {
     "end_time": "2024-08-27T15:43:24.143162Z",
     "start_time": "2024-08-27T15:43:24.101290Z"
    }
   },
   "cell_type": "code",
   "source": [
    "df_bancassurance = df[(df.DistributionNetwork == 'Bancassurance') & (pd.to_datetime(df['CompletionDate']).dt.year == 2011)]\n",
    "\n",
    "df_ban_all  = df_bancassurance.groupby('ProductCategory').size().rename('all').reset_index()\n",
    "df_ban_sat = df_bancassurance[df_bancassurance['ClientSatisfaction'] == 'SAT'].groupby('ProductCategory').size().rename('sat').reset_index()\n",
    "df_ban_all = pd.merge(df_ban_all, df_ban_sat, how='left', on='ProductCategory')\n",
    "df_ban_all[\"Bancassurance\"] = (df_ban_all['sat'] / df_ban_all['all'] * 100).astype(float).round(2)\n",
    "df_ban_all = df_ban_all[['ProductCategory', 'Bancassurance']]\n",
    "\n",
    "df_ban_all"
   ],
   "id": "5a4f28657eb764c8",
   "outputs": [
    {
     "data": {
      "text/plain": [
       "        ProductCategory  Bancassurance\n",
       "0              Business          42.86\n",
       "1  Capital Accumulation          56.25\n",
       "2     Family Protection            NaN\n",
       "3                Health          37.50\n",
       "4                  Life            NaN\n",
       "5             Mortgaged            NaN\n",
       "6                 Motor          50.00\n",
       "7                 Other            NaN"
      ],
      "text/html": [
       "<div>\n",
       "<style scoped>\n",
       "    .dataframe tbody tr th:only-of-type {\n",
       "        vertical-align: middle;\n",
       "    }\n",
       "\n",
       "    .dataframe tbody tr th {\n",
       "        vertical-align: top;\n",
       "    }\n",
       "\n",
       "    .dataframe thead th {\n",
       "        text-align: right;\n",
       "    }\n",
       "</style>\n",
       "<table border=\"1\" class=\"dataframe\">\n",
       "  <thead>\n",
       "    <tr style=\"text-align: right;\">\n",
       "      <th></th>\n",
       "      <th>ProductCategory</th>\n",
       "      <th>Bancassurance</th>\n",
       "    </tr>\n",
       "  </thead>\n",
       "  <tbody>\n",
       "    <tr>\n",
       "      <th>0</th>\n",
       "      <td>Business</td>\n",
       "      <td>42.86</td>\n",
       "    </tr>\n",
       "    <tr>\n",
       "      <th>1</th>\n",
       "      <td>Capital Accumulation</td>\n",
       "      <td>56.25</td>\n",
       "    </tr>\n",
       "    <tr>\n",
       "      <th>2</th>\n",
       "      <td>Family Protection</td>\n",
       "      <td>NaN</td>\n",
       "    </tr>\n",
       "    <tr>\n",
       "      <th>3</th>\n",
       "      <td>Health</td>\n",
       "      <td>37.50</td>\n",
       "    </tr>\n",
       "    <tr>\n",
       "      <th>4</th>\n",
       "      <td>Life</td>\n",
       "      <td>NaN</td>\n",
       "    </tr>\n",
       "    <tr>\n",
       "      <th>5</th>\n",
       "      <td>Mortgaged</td>\n",
       "      <td>NaN</td>\n",
       "    </tr>\n",
       "    <tr>\n",
       "      <th>6</th>\n",
       "      <td>Motor</td>\n",
       "      <td>50.00</td>\n",
       "    </tr>\n",
       "    <tr>\n",
       "      <th>7</th>\n",
       "      <td>Other</td>\n",
       "      <td>NaN</td>\n",
       "    </tr>\n",
       "  </tbody>\n",
       "</table>\n",
       "</div>"
      ]
     },
     "execution_count": 39,
     "metadata": {},
     "output_type": "execute_result"
    }
   ],
   "execution_count": 39
  },
  {
   "metadata": {
    "ExecuteTime": {
     "end_time": "2024-08-27T15:43:24.165809Z",
     "start_time": "2024-08-27T15:43:24.145167Z"
    }
   },
   "cell_type": "code",
   "source": [
    "df_broker = df[(df.DistributionNetwork == 'Brokers') & (pd.to_datetime(df['CompletionDate']).dt.year == 2011)]\n",
    "\n",
    "df_bro_all  = df_broker.groupby('ProductCategory').size().rename('all').reset_index()\n",
    "df_bro_sat = df_broker[df_broker['ClientSatisfaction'] == 'SAT'].groupby('ProductCategory').size().rename('sat').reset_index()\n",
    "df_bro_all = pd.merge(df_bro_all, df_bro_sat, how='left', on='ProductCategory')\n",
    "df_bro_all[\"Broker\"] = (df_bro_all['sat'] / df_bro_all['all'] * 100).astype(float).round(2)\n",
    "df_bro_all = df_bro_all[['ProductCategory', 'Broker']]\n",
    "\n",
    "df_bro_all"
   ],
   "id": "736add3ec4efb984",
   "outputs": [
    {
     "data": {
      "text/plain": [
       "        ProductCategory  Broker\n",
       "0              Business   50.00\n",
       "1  Capital Accumulation   48.28\n",
       "2                Health   10.00\n",
       "3                  Life     NaN\n",
       "4             Mortgaged   33.33\n",
       "5                 Motor   33.33\n",
       "6                 Other  100.00\n",
       "7              Property   50.00"
      ],
      "text/html": [
       "<div>\n",
       "<style scoped>\n",
       "    .dataframe tbody tr th:only-of-type {\n",
       "        vertical-align: middle;\n",
       "    }\n",
       "\n",
       "    .dataframe tbody tr th {\n",
       "        vertical-align: top;\n",
       "    }\n",
       "\n",
       "    .dataframe thead th {\n",
       "        text-align: right;\n",
       "    }\n",
       "</style>\n",
       "<table border=\"1\" class=\"dataframe\">\n",
       "  <thead>\n",
       "    <tr style=\"text-align: right;\">\n",
       "      <th></th>\n",
       "      <th>ProductCategory</th>\n",
       "      <th>Broker</th>\n",
       "    </tr>\n",
       "  </thead>\n",
       "  <tbody>\n",
       "    <tr>\n",
       "      <th>0</th>\n",
       "      <td>Business</td>\n",
       "      <td>50.00</td>\n",
       "    </tr>\n",
       "    <tr>\n",
       "      <th>1</th>\n",
       "      <td>Capital Accumulation</td>\n",
       "      <td>48.28</td>\n",
       "    </tr>\n",
       "    <tr>\n",
       "      <th>2</th>\n",
       "      <td>Health</td>\n",
       "      <td>10.00</td>\n",
       "    </tr>\n",
       "    <tr>\n",
       "      <th>3</th>\n",
       "      <td>Life</td>\n",
       "      <td>NaN</td>\n",
       "    </tr>\n",
       "    <tr>\n",
       "      <th>4</th>\n",
       "      <td>Mortgaged</td>\n",
       "      <td>33.33</td>\n",
       "    </tr>\n",
       "    <tr>\n",
       "      <th>5</th>\n",
       "      <td>Motor</td>\n",
       "      <td>33.33</td>\n",
       "    </tr>\n",
       "    <tr>\n",
       "      <th>6</th>\n",
       "      <td>Other</td>\n",
       "      <td>100.00</td>\n",
       "    </tr>\n",
       "    <tr>\n",
       "      <th>7</th>\n",
       "      <td>Property</td>\n",
       "      <td>50.00</td>\n",
       "    </tr>\n",
       "  </tbody>\n",
       "</table>\n",
       "</div>"
      ]
     },
     "execution_count": 40,
     "metadata": {},
     "output_type": "execute_result"
    }
   ],
   "execution_count": 40
  },
  {
   "metadata": {
    "ExecuteTime": {
     "end_time": "2024-08-27T15:43:24.188027Z",
     "start_time": "2024-08-27T15:43:24.166815Z"
    }
   },
   "cell_type": "code",
   "source": [
    "df_direct= df[(df.DistributionNetwork == 'Direct') & (pd.to_datetime(df['CompletionDate']).dt.year == 2011)]\n",
    "\n",
    "df_direct_all  = df_direct.groupby('ProductCategory').size().rename('all').reset_index()\n",
    "df_direct_sat = df_direct[df_direct['ClientSatisfaction'] == 'SAT'].groupby('ProductCategory').size().rename('sat').reset_index()\n",
    "df_direct_all = pd.merge(df_direct_all, df_direct_sat, how='left', on='ProductCategory')\n",
    "df_direct_all[\"Direct\"] = (df_direct_all['sat'] / df_direct_all['all'] * 100).astype(float).round(2)\n",
    "df_direct_all = df_direct_all[['ProductCategory', 'Direct']]\n",
    "\n",
    "df_direct_all"
   ],
   "id": "2e485ae05c613d5e",
   "outputs": [
    {
     "data": {
      "text/plain": [
       "        ProductCategory  Direct\n",
       "0              Business   45.45\n",
       "1  Capital Accumulation   53.66\n",
       "2     Family Protection   50.00\n",
       "3                Health   48.72\n",
       "4                  Life   33.33\n",
       "5             Mortgaged   50.00\n",
       "6                 Motor   50.00\n",
       "7                 Other   50.00\n",
       "8              Property   66.67"
      ],
      "text/html": [
       "<div>\n",
       "<style scoped>\n",
       "    .dataframe tbody tr th:only-of-type {\n",
       "        vertical-align: middle;\n",
       "    }\n",
       "\n",
       "    .dataframe tbody tr th {\n",
       "        vertical-align: top;\n",
       "    }\n",
       "\n",
       "    .dataframe thead th {\n",
       "        text-align: right;\n",
       "    }\n",
       "</style>\n",
       "<table border=\"1\" class=\"dataframe\">\n",
       "  <thead>\n",
       "    <tr style=\"text-align: right;\">\n",
       "      <th></th>\n",
       "      <th>ProductCategory</th>\n",
       "      <th>Direct</th>\n",
       "    </tr>\n",
       "  </thead>\n",
       "  <tbody>\n",
       "    <tr>\n",
       "      <th>0</th>\n",
       "      <td>Business</td>\n",
       "      <td>45.45</td>\n",
       "    </tr>\n",
       "    <tr>\n",
       "      <th>1</th>\n",
       "      <td>Capital Accumulation</td>\n",
       "      <td>53.66</td>\n",
       "    </tr>\n",
       "    <tr>\n",
       "      <th>2</th>\n",
       "      <td>Family Protection</td>\n",
       "      <td>50.00</td>\n",
       "    </tr>\n",
       "    <tr>\n",
       "      <th>3</th>\n",
       "      <td>Health</td>\n",
       "      <td>48.72</td>\n",
       "    </tr>\n",
       "    <tr>\n",
       "      <th>4</th>\n",
       "      <td>Life</td>\n",
       "      <td>33.33</td>\n",
       "    </tr>\n",
       "    <tr>\n",
       "      <th>5</th>\n",
       "      <td>Mortgaged</td>\n",
       "      <td>50.00</td>\n",
       "    </tr>\n",
       "    <tr>\n",
       "      <th>6</th>\n",
       "      <td>Motor</td>\n",
       "      <td>50.00</td>\n",
       "    </tr>\n",
       "    <tr>\n",
       "      <th>7</th>\n",
       "      <td>Other</td>\n",
       "      <td>50.00</td>\n",
       "    </tr>\n",
       "    <tr>\n",
       "      <th>8</th>\n",
       "      <td>Property</td>\n",
       "      <td>66.67</td>\n",
       "    </tr>\n",
       "  </tbody>\n",
       "</table>\n",
       "</div>"
      ]
     },
     "execution_count": 41,
     "metadata": {},
     "output_type": "execute_result"
    }
   ],
   "execution_count": 41
  },
  {
   "metadata": {
    "ExecuteTime": {
     "end_time": "2024-08-27T15:43:24.202205Z",
     "start_time": "2024-08-27T15:43:24.189039Z"
    }
   },
   "cell_type": "code",
   "source": [
    "df_all = pd.merge(df_ban_all, df_bro_all, how='left', on='ProductCategory')\n",
    "df_all = pd.merge(df_all, df_direct_all, how='left', on='ProductCategory')\n",
    "\n",
    "df_all"
   ],
   "id": "2a2ed3aef6b115d0",
   "outputs": [
    {
     "data": {
      "text/plain": [
       "        ProductCategory  Bancassurance  Broker  Direct\n",
       "0              Business          42.86   50.00   45.45\n",
       "1  Capital Accumulation          56.25   48.28   53.66\n",
       "2     Family Protection            NaN     NaN   50.00\n",
       "3                Health          37.50   10.00   48.72\n",
       "4                  Life            NaN     NaN   33.33\n",
       "5             Mortgaged            NaN   33.33   50.00\n",
       "6                 Motor          50.00   33.33   50.00\n",
       "7                 Other            NaN  100.00   50.00"
      ],
      "text/html": [
       "<div>\n",
       "<style scoped>\n",
       "    .dataframe tbody tr th:only-of-type {\n",
       "        vertical-align: middle;\n",
       "    }\n",
       "\n",
       "    .dataframe tbody tr th {\n",
       "        vertical-align: top;\n",
       "    }\n",
       "\n",
       "    .dataframe thead th {\n",
       "        text-align: right;\n",
       "    }\n",
       "</style>\n",
       "<table border=\"1\" class=\"dataframe\">\n",
       "  <thead>\n",
       "    <tr style=\"text-align: right;\">\n",
       "      <th></th>\n",
       "      <th>ProductCategory</th>\n",
       "      <th>Bancassurance</th>\n",
       "      <th>Broker</th>\n",
       "      <th>Direct</th>\n",
       "    </tr>\n",
       "  </thead>\n",
       "  <tbody>\n",
       "    <tr>\n",
       "      <th>0</th>\n",
       "      <td>Business</td>\n",
       "      <td>42.86</td>\n",
       "      <td>50.00</td>\n",
       "      <td>45.45</td>\n",
       "    </tr>\n",
       "    <tr>\n",
       "      <th>1</th>\n",
       "      <td>Capital Accumulation</td>\n",
       "      <td>56.25</td>\n",
       "      <td>48.28</td>\n",
       "      <td>53.66</td>\n",
       "    </tr>\n",
       "    <tr>\n",
       "      <th>2</th>\n",
       "      <td>Family Protection</td>\n",
       "      <td>NaN</td>\n",
       "      <td>NaN</td>\n",
       "      <td>50.00</td>\n",
       "    </tr>\n",
       "    <tr>\n",
       "      <th>3</th>\n",
       "      <td>Health</td>\n",
       "      <td>37.50</td>\n",
       "      <td>10.00</td>\n",
       "      <td>48.72</td>\n",
       "    </tr>\n",
       "    <tr>\n",
       "      <th>4</th>\n",
       "      <td>Life</td>\n",
       "      <td>NaN</td>\n",
       "      <td>NaN</td>\n",
       "      <td>33.33</td>\n",
       "    </tr>\n",
       "    <tr>\n",
       "      <th>5</th>\n",
       "      <td>Mortgaged</td>\n",
       "      <td>NaN</td>\n",
       "      <td>33.33</td>\n",
       "      <td>50.00</td>\n",
       "    </tr>\n",
       "    <tr>\n",
       "      <th>6</th>\n",
       "      <td>Motor</td>\n",
       "      <td>50.00</td>\n",
       "      <td>33.33</td>\n",
       "      <td>50.00</td>\n",
       "    </tr>\n",
       "    <tr>\n",
       "      <th>7</th>\n",
       "      <td>Other</td>\n",
       "      <td>NaN</td>\n",
       "      <td>100.00</td>\n",
       "      <td>50.00</td>\n",
       "    </tr>\n",
       "  </tbody>\n",
       "</table>\n",
       "</div>"
      ]
     },
     "execution_count": 42,
     "metadata": {},
     "output_type": "execute_result"
    }
   ],
   "execution_count": 42
  },
  {
   "metadata": {
    "ExecuteTime": {
     "end_time": "2024-08-27T15:43:24.208606Z",
     "start_time": "2024-08-27T15:43:24.203209Z"
    }
   },
   "cell_type": "code",
   "source": "df_all.to_csv('Data/ComplaintsAll.csv', index=False)",
   "id": "c075d95c24a3c728",
   "outputs": [],
   "execution_count": 43
  }
 ],
 "metadata": {
  "kernelspec": {
   "display_name": "Python 3",
   "language": "python",
   "name": "python3"
  },
  "language_info": {
   "codemirror_mode": {
    "name": "ipython",
    "version": 2
   },
   "file_extension": ".py",
   "mimetype": "text/x-python",
   "name": "python",
   "nbconvert_exporter": "python",
   "pygments_lexer": "ipython2",
   "version": "2.7.6"
  }
 },
 "nbformat": 4,
 "nbformat_minor": 5
}
