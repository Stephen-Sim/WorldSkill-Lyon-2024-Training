{
 "cells": [
  {
   "cell_type": "code",
   "id": "initial_id",
   "metadata": {
    "collapsed": true,
    "ExecuteTime": {
     "end_time": "2024-08-28T17:09:41.814519Z",
     "start_time": "2024-08-28T17:09:07.312358Z"
    }
   },
   "source": [
    "import pandas as pd\n",
    "\n",
    "df = pd.read_excel('Data/online_retail_II.xlsx', sheet_name='Year 2010-2011')\n",
    "\n",
    "df['InvoiceDate'] = pd.to_datetime(df['InvoiceDate'])"
   ],
   "outputs": [],
   "execution_count": 66
  },
  {
   "metadata": {
    "ExecuteTime": {
     "end_time": "2024-08-28T17:09:41.884058Z",
     "start_time": "2024-08-28T17:09:41.816210Z"
    }
   },
   "cell_type": "code",
   "source": [
    "df=df[(df[\"Quantity\"]>0)]\n",
    "\n",
    "df['Total Price'] = df[\"Quantity\"] * df[\"Price\"]\n",
    "customer_df = df.groupby('Customer ID').agg({\n",
    "    'Customer ID': 'count',\n",
    "    'Quantity': 'sum',\n",
    "    'Total Price' : 'sum',\n",
    "})\n",
    "\n",
    "customer_df.columns=['total_transaction','total_unit','total_price']\n",
    "\n",
    "customer_df['avg_price'] = customer_df['total_price'] / customer_df['total_transaction']\n",
    "\n",
    "customer_df.head()"
   ],
   "id": "1b0e93090dbb47a0",
   "outputs": [
    {
     "data": {
      "text/plain": [
       "             total_transaction  total_unit  total_price  avg_price\n",
       "Customer ID                                                       \n",
       "12346.0                      1       74215     77183.60   77183.60\n",
       "12347.0                    182        2458      4310.00  784420.00\n",
       "12348.0                     31        2341      1797.24   55714.44\n",
       "12349.0                     73         631      1757.55  128301.15\n",
       "12350.0                     17         197       334.40    5684.80"
      ],
      "text/html": [
       "<div>\n",
       "<style scoped>\n",
       "    .dataframe tbody tr th:only-of-type {\n",
       "        vertical-align: middle;\n",
       "    }\n",
       "\n",
       "    .dataframe tbody tr th {\n",
       "        vertical-align: top;\n",
       "    }\n",
       "\n",
       "    .dataframe thead th {\n",
       "        text-align: right;\n",
       "    }\n",
       "</style>\n",
       "<table border=\"1\" class=\"dataframe\">\n",
       "  <thead>\n",
       "    <tr style=\"text-align: right;\">\n",
       "      <th></th>\n",
       "      <th>total_transaction</th>\n",
       "      <th>total_unit</th>\n",
       "      <th>total_price</th>\n",
       "      <th>avg_price</th>\n",
       "    </tr>\n",
       "    <tr>\n",
       "      <th>Customer ID</th>\n",
       "      <th></th>\n",
       "      <th></th>\n",
       "      <th></th>\n",
       "      <th></th>\n",
       "    </tr>\n",
       "  </thead>\n",
       "  <tbody>\n",
       "    <tr>\n",
       "      <th>12346.0</th>\n",
       "      <td>1</td>\n",
       "      <td>74215</td>\n",
       "      <td>77183.60</td>\n",
       "      <td>77183.60</td>\n",
       "    </tr>\n",
       "    <tr>\n",
       "      <th>12347.0</th>\n",
       "      <td>182</td>\n",
       "      <td>2458</td>\n",
       "      <td>4310.00</td>\n",
       "      <td>784420.00</td>\n",
       "    </tr>\n",
       "    <tr>\n",
       "      <th>12348.0</th>\n",
       "      <td>31</td>\n",
       "      <td>2341</td>\n",
       "      <td>1797.24</td>\n",
       "      <td>55714.44</td>\n",
       "    </tr>\n",
       "    <tr>\n",
       "      <th>12349.0</th>\n",
       "      <td>73</td>\n",
       "      <td>631</td>\n",
       "      <td>1757.55</td>\n",
       "      <td>128301.15</td>\n",
       "    </tr>\n",
       "    <tr>\n",
       "      <th>12350.0</th>\n",
       "      <td>17</td>\n",
       "      <td>197</td>\n",
       "      <td>334.40</td>\n",
       "      <td>5684.80</td>\n",
       "    </tr>\n",
       "  </tbody>\n",
       "</table>\n",
       "</div>"
      ]
     },
     "execution_count": 67,
     "metadata": {},
     "output_type": "execute_result"
    }
   ],
   "execution_count": 67
  },
  {
   "metadata": {
    "ExecuteTime": {
     "end_time": "2024-08-28T17:09:41.896859Z",
     "start_time": "2024-08-28T17:09:41.885065Z"
    }
   },
   "cell_type": "code",
   "source": [
    "customer_df['frequency'] = customer_df['total_transaction'] / customer_df.shape[0]\n",
    "\n",
    "repeat_rate = len(customer_df[customer_df['total_transaction'] > 2]) / customer_df.shape[0]\n",
    "\n",
    "print(repeat_rate)\n",
    "customer_df.head()"
   ],
   "id": "91dd88fd48bf0226",
   "outputs": [
    {
     "name": "stdout",
     "output_type": "stream",
     "text": [
      "0.9711915187831297\n"
     ]
    },
    {
     "data": {
      "text/plain": [
       "             total_transaction  total_unit  total_price  avg_price  frequency\n",
       "Customer ID                                                                  \n",
       "12346.0                      1       74215     77183.60   77183.60   0.000230\n",
       "12347.0                    182        2458      4310.00  784420.00   0.041945\n",
       "12348.0                     31        2341      1797.24   55714.44   0.007145\n",
       "12349.0                     73         631      1757.55  128301.15   0.016824\n",
       "12350.0                     17         197       334.40    5684.80   0.003918"
      ],
      "text/html": [
       "<div>\n",
       "<style scoped>\n",
       "    .dataframe tbody tr th:only-of-type {\n",
       "        vertical-align: middle;\n",
       "    }\n",
       "\n",
       "    .dataframe tbody tr th {\n",
       "        vertical-align: top;\n",
       "    }\n",
       "\n",
       "    .dataframe thead th {\n",
       "        text-align: right;\n",
       "    }\n",
       "</style>\n",
       "<table border=\"1\" class=\"dataframe\">\n",
       "  <thead>\n",
       "    <tr style=\"text-align: right;\">\n",
       "      <th></th>\n",
       "      <th>total_transaction</th>\n",
       "      <th>total_unit</th>\n",
       "      <th>total_price</th>\n",
       "      <th>avg_price</th>\n",
       "      <th>frequency</th>\n",
       "    </tr>\n",
       "    <tr>\n",
       "      <th>Customer ID</th>\n",
       "      <th></th>\n",
       "      <th></th>\n",
       "      <th></th>\n",
       "      <th></th>\n",
       "      <th></th>\n",
       "    </tr>\n",
       "  </thead>\n",
       "  <tbody>\n",
       "    <tr>\n",
       "      <th>12346.0</th>\n",
       "      <td>1</td>\n",
       "      <td>74215</td>\n",
       "      <td>77183.60</td>\n",
       "      <td>77183.60</td>\n",
       "      <td>0.000230</td>\n",
       "    </tr>\n",
       "    <tr>\n",
       "      <th>12347.0</th>\n",
       "      <td>182</td>\n",
       "      <td>2458</td>\n",
       "      <td>4310.00</td>\n",
       "      <td>784420.00</td>\n",
       "      <td>0.041945</td>\n",
       "    </tr>\n",
       "    <tr>\n",
       "      <th>12348.0</th>\n",
       "      <td>31</td>\n",
       "      <td>2341</td>\n",
       "      <td>1797.24</td>\n",
       "      <td>55714.44</td>\n",
       "      <td>0.007145</td>\n",
       "    </tr>\n",
       "    <tr>\n",
       "      <th>12349.0</th>\n",
       "      <td>73</td>\n",
       "      <td>631</td>\n",
       "      <td>1757.55</td>\n",
       "      <td>128301.15</td>\n",
       "      <td>0.016824</td>\n",
       "    </tr>\n",
       "    <tr>\n",
       "      <th>12350.0</th>\n",
       "      <td>17</td>\n",
       "      <td>197</td>\n",
       "      <td>334.40</td>\n",
       "      <td>5684.80</td>\n",
       "      <td>0.003918</td>\n",
       "    </tr>\n",
       "  </tbody>\n",
       "</table>\n",
       "</div>"
      ]
     },
     "execution_count": 68,
     "metadata": {},
     "output_type": "execute_result"
    }
   ],
   "execution_count": 68
  },
  {
   "metadata": {
    "ExecuteTime": {
     "end_time": "2024-08-28T17:10:10.330413Z",
     "start_time": "2024-08-28T17:10:10.324776Z"
    }
   },
   "cell_type": "code",
   "source": [
    "churn_rate = 1 - repeat_rate\n",
    "\n",
    "customer_df['cltv'] = ((customer_df['avg_price'] * customer_df['frequency']) / churn_rate *  customer_df[\"total_price\"] * 0.05).astype(float).round(2)"
   ],
   "id": "aa288ad6fc10834e",
   "outputs": [],
   "execution_count": 71
  },
  {
   "metadata": {
    "ExecuteTime": {
     "end_time": "2024-08-28T17:10:14.097653Z",
     "start_time": "2024-08-28T17:10:14.087454Z"
    }
   },
   "cell_type": "code",
   "source": [
    "from sklearn.preprocessing import MinMaxScaler\n",
    "\n",
    "scaler = MinMaxScaler(feature_range=(1, 100))\n",
    "\n",
    "customer_df['Scaled_cltv'] = scaler.fit_transform(customer_df[['cltv']])\n",
    "\n",
    "def getsegment(num):\n",
    "    if num >= 75:\n",
    "        return \"A\"\n",
    "    elif num >= 50:\n",
    "        return \"B\"\n",
    "    elif num >= 25:\n",
    "        return \"C\"\n",
    "    else:\n",
    "        return \"D\"\n",
    "\n",
    "customer_df['segment'] = customer_df['Scaled_cltv'].apply(getsegment)\n",
    "\n",
    "# Display the result\n",
    "print(customer_df.head())"
   ],
   "id": "a2559557748ab0b0",
   "outputs": [
    {
     "name": "stdout",
     "output_type": "stream",
     "text": [
      "             total_transaction  total_unit  total_price     avg_price  \\\n",
      "Customer ID                                                             \n",
      "14911.0                   5677       80515    143825.06  8.164949e+08   \n",
      "14646.0                   2080      197491    280206.02  5.828285e+08   \n",
      "14096.0                   5111       16352     65164.79  3.330572e+08   \n",
      "17841.0                   7847       23071     40991.57  3.216608e+08   \n",
      "14156.0                   1400       57885    117379.63  1.643315e+08   \n",
      "\n",
      "             frequency          cltv  Scaled_cltv segment  \n",
      "Customer ID                                                \n",
      "14911.0       1.308366  2.666655e+14   100.000000       A  \n",
      "14646.0       0.479373  1.358756e+14    49.394128       C  \n",
      "14096.0       1.177921  4.437085e+13    13.988649       D  \n",
      "17841.0       1.808481  4.138628e+13    12.833845       D  \n",
      "14156.0       0.322655  1.080193e+13     1.000000       D  \n"
     ]
    }
   ],
   "execution_count": 73
  }
 ],
 "metadata": {
  "kernelspec": {
   "display_name": "Python 3",
   "language": "python",
   "name": "python3"
  },
  "language_info": {
   "codemirror_mode": {
    "name": "ipython",
    "version": 2
   },
   "file_extension": ".py",
   "mimetype": "text/x-python",
   "name": "python",
   "nbconvert_exporter": "python",
   "pygments_lexer": "ipython2",
   "version": "2.7.6"
  }
 },
 "nbformat": 4,
 "nbformat_minor": 5
}
